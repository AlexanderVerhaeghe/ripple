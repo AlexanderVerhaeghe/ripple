{
 "cells": [
  {
   "cell_type": "code",
   "execution_count": 2,
   "id": "0a1ed281",
   "metadata": {},
   "outputs": [
    {
     "name": "stderr",
     "output_type": "stream",
     "text": [
      "/Users/amcoogan/Work/GWs/diffwaveform/src/diffwaveform/waveforms/PhenomD.py:345: SyntaxWarning: 'float' object is not callable; perhaps you missed a comma?\n",
      "  eta ** (1.0 / 2.0)(f + 1e-100) ** (-7.0 / 6.0)\n"
     ]
    },
    {
     "ename": "ModuleNotFoundError",
     "evalue": "No module named 'nonstd_gwaves'",
     "output_type": "error",
     "traceback": [
      "\u001b[0;31m---------------------------------------------------------------------------\u001b[0m",
      "\u001b[0;31mModuleNotFoundError\u001b[0m                       Traceback (most recent call last)",
      "Input \u001b[0;32mIn [2]\u001b[0m, in \u001b[0;36m<cell line: 3>\u001b[0;34m()\u001b[0m\n\u001b[1;32m      1\u001b[0m \u001b[38;5;28;01mimport\u001b[39;00m \u001b[38;5;21;01mnumpy\u001b[39;00m \u001b[38;5;28;01mas\u001b[39;00m \u001b[38;5;21;01mnp\u001b[39;00m\n\u001b[1;32m      2\u001b[0m \u001b[38;5;28;01mimport\u001b[39;00m \u001b[38;5;21;01mPhenomD\u001b[39;00m\n\u001b[0;32m----> 3\u001b[0m \u001b[38;5;28;01mfrom\u001b[39;00m \u001b[38;5;21;01mnonstd_gwaves\u001b[39;00m\u001b[38;5;21;01m.\u001b[39;00m\u001b[38;5;21;01mwaveforms\u001b[39;00m \u001b[38;5;28;01mimport\u001b[39;00m kappa_waveform\n\u001b[1;32m      4\u001b[0m \u001b[38;5;28;01mimport\u001b[39;00m \u001b[38;5;21;01mmatplotlib\u001b[39;00m\u001b[38;5;21;01m.\u001b[39;00m\u001b[38;5;21;01mpyplot\u001b[39;00m \u001b[38;5;28;01mas\u001b[39;00m \u001b[38;5;21;01mplt\u001b[39;00m\n",
      "\u001b[0;31mModuleNotFoundError\u001b[0m: No module named 'nonstd_gwaves'"
     ]
    }
   ],
   "source": [
    "import numpy as np\n",
    "import PhenomD\n",
    "from nonstd_gwaves.waveforms import kappa_waveform\n",
    "import matplotlib.pyplot as plt"
   ]
  },
  {
   "cell_type": "code",
   "execution_count": null,
   "id": "1aa5aa57",
   "metadata": {},
   "outputs": [],
   "source": [
    "def test_phenomD():\n",
    "    theta = np.array([3.0, 1.0, 0.0, 0.0])\n",
    "    f_l = 30\n",
    "    f_u = 1000\n",
    "    del_f = 0.001\n",
    "    f = np.arange(f_l, f_u, del_f)\n",
    "    Mf = f * (theta[0] + theta[1]) * 4.92549094830932e-6\n",
    "    # print(f)\n",
    "\n",
    "    phase, f1, f2 = PhenomD.Phase(f, theta)\n",
    "    print(phase)\n",
    "\n",
    "    TF2 = kappa_waveform(\n",
    "        mass1=theta[0],\n",
    "        mass2=theta[1],\n",
    "        spin1z=theta[2],\n",
    "        spin2z=theta[3],\n",
    "        f_lower=f_l,\n",
    "        f_upper=f_u,\n",
    "        delta_f=del_f,\n",
    "    )\n",
    "    print(TF2.Phif35PN())\n",
    "    plt.figure(figsize=(7, 5))\n",
    "    plt.plot(\n",
    "        TF2.frequencies * (theta[0] + theta[1]) * 4.92549094830932e-6,\n",
    "        TF2.Phif35PN(),\n",
    "        label=\"nonstd-gwaves\",\n",
    "    )\n",
    "    # norm = phase[0] / TF2.Phif35PN()[0]\n",
    "    norm = 1.0\n",
    "    plt.plot(Mf, phase / norm, label=\"PhenomD\")\n",
    "    # plt.axvline(x=f1)\n",
    "    # plt.axvline(x=f2)\n",
    "    plt.legend()\n",
    "    plt.savefig(\"test_phase_full.pdf\")\n",
    "\n",
    "    phase_deriv = np.gradient(phase, del_f)\n",
    "    plt.figure(figsize=(7, 5))\n",
    "    plt.plot(f, phase_deriv, label=\"PhenomD\")\n",
    "    plt.legend()\n",
    "    plt.savefig(\"test_phase_derivative_full.pdf\")\n",
    "\n",
    "    # coeffs = PhenomD.get_coeffs(theta)\n",
    "    # print(coeffs)\n",
    "    return None"
   ]
  },
  {
   "cell_type": "code",
   "execution_count": null,
   "id": "f76960ea",
   "metadata": {},
   "outputs": [],
   "source": [
    "def test_frequency_calc():\n",
    "    theta = np.array([5.0, 4.0, 0.0, 0.0])\n",
    "    m1, m2, chi1, chi2 = theta\n",
    "\n",
    "    fRD, fdamp = PhenomD.get_fRD_fdamp(m1, m2, chi1, chi2)\n",
    "    print(fRD, fdamp)\n",
    "    return None"
   ]
  },
  {
   "cell_type": "code",
   "execution_count": null,
   "id": "e7d7e638",
   "metadata": {},
   "outputs": [],
   "source": [
    "test_phenomD()"
   ]
  }
 ],
 "metadata": {
  "kernelspec": {
   "display_name": "Python 3 (ipykernel)",
   "language": "python",
   "name": "python3"
  },
  "language_info": {
   "codemirror_mode": {
    "name": "ipython",
    "version": 3
   },
   "file_extension": ".py",
   "mimetype": "text/x-python",
   "name": "python",
   "nbconvert_exporter": "python",
   "pygments_lexer": "ipython3",
   "version": "3.10.3"
  }
 },
 "nbformat": 4,
 "nbformat_minor": 5
}
