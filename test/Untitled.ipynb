{
 "cells": [
  {
   "cell_type": "code",
   "execution_count": 3,
   "id": "4712faeb",
   "metadata": {},
   "outputs": [],
   "source": [
    "import lalsimulation as lalsim"
   ]
  },
  {
   "cell_type": "code",
   "execution_count": 2,
   "id": "5f43972b",
   "metadata": {},
   "outputs": [],
   "source": [
    "?lal"
   ]
  },
  {
   "cell_type": "code",
   "execution_count": 4,
   "id": "8481dbbd",
   "metadata": {},
   "outputs": [],
   "source": [
    "?lalsim.SimInspiralChooseFDWaveform"
   ]
  },
  {
   "cell_type": "code",
   "execution_count": null,
   "id": "bc91de31",
   "metadata": {},
   "outputs": [],
   "source": []
  }
 ],
 "metadata": {
  "kernelspec": {
   "display_name": "venv_development",
   "language": "python",
   "name": "venv_development"
  },
  "language_info": {
   "codemirror_mode": {
    "name": "ipython",
    "version": 3
   },
   "file_extension": ".py",
   "mimetype": "text/x-python",
   "name": "python",
   "nbconvert_exporter": "python",
   "pygments_lexer": "ipython3",
   "version": "3.10.6"
  }
 },
 "nbformat": 4,
 "nbformat_minor": 5
}
